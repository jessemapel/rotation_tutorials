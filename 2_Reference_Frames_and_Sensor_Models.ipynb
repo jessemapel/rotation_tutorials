{
 "cells": [
  {
   "cell_type": "code",
   "execution_count": null,
   "metadata": {},
   "outputs": [],
   "source": [
    "from scipy.spatial.transform import Rotation\n",
    "import numpy as np"
   ]
  },
  {
   "cell_type": "markdown",
   "metadata": {},
   "source": [
    "# Sensor Models\n",
    "Rigorous sensor models (think ISIS and USGSCSM) are fundamentally a bunch of transformations between reference frames and coordinate systems. When you project a pixel to a ground point in ISIS, the sensor model is doing the following transformations:\n",
    "\n",
    "1. Transform the image coordinate into a detector coordinate\n",
    "1. Transform the detector coordinate into a distorted focal plane coordinate\n",
    "1. Transform the distorted focal plane coordinate into an undistorted focal plane coordinate\n",
    "1. Transform the undistorted focal plane coordinate into a look vector in the sensor reference frame\n",
    "1. Transform the look vector in the sensor reference frame into a look vector in the target reference frame\n",
    "\n",
    "Rotations largely come into during the final transformation, in particular the rotation from the sensor reference frame to the target reference frame."
   ]
  },
  {
   "cell_type": "markdown",
   "metadata": {},
   "source": [
    "## Getting From the Sensor Reference Frame To the Target Reference Frame"
   ]
  },
  {
   "cell_type": "markdown",
   "metadata": {},
   "source": [
    "```\n",
    "OSIRIS Frame Tree\n",
    "--------------------------------------\n",
    "\n",
    "   The diagram below shows the OSIRIS frame hierarchy.\n",
    "\n",
    "\n",
    "                               \"J2000\" INERTIAL\n",
    "           +-----------------------------------------------------+\n",
    "           |                 |        |        |                 |\n",
    "           |<-pck        ck->|        |        |<-pck       pck->|\n",
    "           |                 |        |        |                 |\n",
    "           V                 V        |        V                 V\n",
    "       \"67P/C-G_FIXED\"  \"67P/C-G_CK\"  | \"LUTETIA_FIXED\"   \"STEINS_FIXED\"\n",
    "         COMET BFXD      COMET BFXD   |  ASTEROID BFXD    ASTEROID BFXD\n",
    "       ---------------  ------------  | --------------    --------------\n",
    "                                      |\n",
    "                                      |<-ck\n",
    "                                      |\n",
    "                                      V\n",
    "                               \"ROS_SPACECRAFT\"\n",
    "           +-----------------------------------------------------+\n",
    "           |                 |                 |                 |\n",
    "           |                 |<-fixed          |<-fixed          |\n",
    "           |                 |                 |                 |\n",
    "           |                 V                 V                 |\n",
    "           |   \"ROS_OSIRIS_NAC_URF\"      \"ROS_OSIRIS_WAC_URF\"    |\n",
    "           |   --------------------      --------------------    |\n",
    "           |                                                     |\n",
    "           |<-fixed                                              |<-fixed\n",
    "           |                                                     |\n",
    "           V                                                     V\n",
    "     \"ROS_OSIRIS_NAC\"                                     \"ROS_OSIRIS_WAC\"\n",
    "     ----------------                                      ----------------\n",
    "```\n",
    "\n",
    "Taken from the [Rosetta Frame Kernel](https://naif.jpl.nasa.gov/pub/naif/ROSETTA/kernels/fk/ROS_V33.TF)"
   ]
  },
  {
   "cell_type": "markdown",
   "metadata": {},
   "source": [
    "For most sensor models, getting from the sensor reference frame to the target reference frame is a 3-step process:\n",
    "\n",
    "1. Rotate to the spacecraft reference frame\n",
    "1. Rotate to the J2000 reference frame\n",
    "1. Rotate to the target reference frame"
   ]
  },
  {
   "cell_type": "markdown",
   "metadata": {},
   "source": [
    "<span style=\"color:blue\">Rotate the look vector (1.2, 1.6, 50) from the sensor reference frame to the target reference frame based on the following information:</span>\n",
    "\n",
    "* The rotation from the sensor reference frame to the spacecraft reference frame is a 90 degree rotation around the X-axis followed by a 90 degree rotation around the Y-axis\n",
    "* The rotation from the spacecraft reference frame to the J2000 reference frame is defined by the quaternion $\\frac{1}{\\sqrt{2}}+\\frac{1}{\\sqrt{2}}i+0j+0k$\n",
    "* The rotation from the J2000 reference frame to the target reference frame is defined by the quaternion $\\frac{1}{\\sqrt{2}}+0i+0j+\\frac{1}{\\sqrt{2}}k$"
   ]
  },
  {
   "cell_type": "code",
   "execution_count": null,
   "metadata": {},
   "outputs": [],
   "source": [
    "sensor_look = np.array([1.2, 1.6, 50.0])\n",
    "\n",
    "sensor_to_spacecraft = \n",
    "spacecraft_to_j2000 = \n",
    "j2000_to_target =\n",
    "\n",
    "# Hint, you can chain scipy rotations together by left multiplication\n",
    "sensor_to_target = \n",
    "\n",
    "target_look = sensor_to_target.apply(sensor_look)"
   ]
  },
  {
   "cell_type": "markdown",
   "metadata": {},
   "source": [
    "<span style=\"color:blue\">Using the same rotations as before, rotate the look vector (1, 0, 0) from the target reference frame to the sensor reference frame</span>"
   ]
  },
  {
   "cell_type": "code",
   "execution_count": null,
   "metadata": {},
   "outputs": [],
   "source": []
  }
 ],
 "metadata": {
  "kernelspec": {
   "display_name": "Python 3",
   "language": "python",
   "name": "python3"
  },
  "language_info": {
   "codemirror_mode": {
    "name": "ipython",
    "version": 3
   },
   "file_extension": ".py",
   "mimetype": "text/x-python",
   "name": "python",
   "nbconvert_exporter": "python",
   "pygments_lexer": "ipython3",
   "version": "3.7.3"
  }
 },
 "nbformat": 4,
 "nbformat_minor": 4
}
