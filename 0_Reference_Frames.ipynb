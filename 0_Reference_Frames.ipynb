{
 "cells": [
  {
   "cell_type": "markdown",
   "metadata": {},
   "source": [
    "# Reference Frames"
   ]
  },
  {
   "cell_type": "markdown",
   "metadata": {},
   "source": [
    "A reference frame is a coordinate system and a reference point that together provide context for measurements."
   ]
  },
  {
   "cell_type": "markdown",
   "metadata": {},
   "source": [
    "## Where is Cline Library?"
   ]
  },
  {
   "cell_type": "markdown",
   "metadata": {},
   "source": [
    "|Answer|Measurement|Coordinate System|Reference Point|\n",
    "|---|---|---|---|\n",
    "|3 miles away|X|   |   |\n",
    "|3 miles away from Buffalo Park|X|X|   |\n",
    "|3 miles southwest|X|   |X|\n",
    "|3 miles southwest of Buffalo Park|X|X|X|"
   ]
  },
  {
   "cell_type": "markdown",
   "metadata": {},
   "source": [
    "In this example, the coordinate system is the compass directions on Earth and the reference point is Buffalo Park."
   ]
  },
  {
   "cell_type": "markdown",
   "metadata": {},
   "source": [
    "**Reference Frames make measurements meaningful!**"
   ]
  },
  {
   "cell_type": "markdown",
   "metadata": {},
   "source": [
    "# Reference Frames in 3D"
   ]
  },
  {
   "cell_type": "markdown",
   "metadata": {},
   "source": [
    "![Reference frames for HiRISE on MRO](figures/hirise_frames.png \"Reference frames for HiRISE on MRO\")"
   ]
  },
  {
   "cell_type": "markdown",
   "metadata": {},
   "source": [
    "In the example with Cline Library, we used a reference frame with a 2D coordinate system. While these are useful (images pixels are defined in a 2d coordinate system), they are relatively straight-forward and not worth much discussion. When working with orbital sensor models, the more interesting topic is working with measurements in 3D reference frames."
   ]
  },
  {
   "cell_type": "markdown",
   "metadata": {},
   "source": [
    "## Coordinate Systems in 3D"
   ]
  },
  {
   "cell_type": "markdown",
   "metadata": {},
   "source": [
    "![Right handed vs left handed coordinate systems](figures/rhs_lhs.png \"title\")"
   ]
  },
  {
   "cell_type": "markdown",
   "metadata": {},
   "source": [
    "In general, we will use rectangular or Cartesian coordinate systems when working in 3D. These are defined by 3 prependicular axes (X, Y, and Z). All rectangular 3D coordinate systems can be split into 2 groups, right handed and left handed. All right handed coordinate systems can be rotated into each other and all left handed coordinate systems can be rotated into each other, but no right handed coordinate system can be rotated into a left handed coordinate system and visa-versa. A long time ago, a bunch of right handed people decided that everything should operate in right handed coordinate systems and, for the most part, the convention has stuck."
   ]
  }
 ],
 "metadata": {
  "kernelspec": {
   "display_name": "Python 3",
   "language": "python",
   "name": "python3"
  },
  "language_info": {
   "codemirror_mode": {
    "name": "ipython",
    "version": 3
   },
   "file_extension": ".py",
   "mimetype": "text/x-python",
   "name": "python",
   "nbconvert_exporter": "python",
   "pygments_lexer": "ipython3",
   "version": "3.7.3"
  }
 },
 "nbformat": 4,
 "nbformat_minor": 4
}
