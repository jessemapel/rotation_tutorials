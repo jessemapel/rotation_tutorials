{
 "cells": [
  {
   "cell_type": "code",
   "execution_count": null,
   "metadata": {},
   "outputs": [],
   "source": [
    "from scipy.spatial.transform import Rotation\n",
    "import numpy as np\n",
    "import json"
   ]
  },
  {
   "cell_type": "markdown",
   "metadata": {},
   "source": [
    "# Rotations In USGSCSM Sensor Models\n",
    "In USGSCSM, we primarily use quaternions and ocassionally use Euler angles.\n",
    "\n",
    "## Quaternions\n",
    "USGSCSM sensor models always store the rotation from the sensor reference frame to the target reference frame as quaternions. The framing sensor model stores a single quaternion and the line scan sensor model stores a sequence of quaternions that are equally spaced across the duration of the image. Similar to ISIS sensor models, the line scan sensor model interpolates to get the rotation at any given time.\n",
    "\n",
    "## Euler Angles\n",
    "The one place that the USGSCSM uses Euler angles is in pointing correction for the line scan sensor model. The line scan sensor model retains the original rotation quaternions and adds an additional bias rotation defined by a second degree polynomial for each Euler angle. In ISIS this is equivalent to the overexisting parameter in jigsaw.\n",
    "\n",
    "## An Example\n",
    "Let's look at an MDIS NAC ISD"
   ]
  },
  {
   "cell_type": "code",
   "execution_count": null,
   "metadata": {},
   "outputs": [],
   "source": [
    "with open('data/EN0213110924M.json') as fh:\n",
    "    isd = json.load(fh)\n",
    "print(isd)"
   ]
  },
  {
   "cell_type": "markdown",
   "metadata": {},
   "source": [
    "The rotation from the sensor reference frame to the target reference frame is stored in the `sensor_orientation` as `quaternions`. In order for the line scan sensor model and the frame sensor model, the quaternions are stored as a 2d list regardless of how many there are."
   ]
  },
  {
   "cell_type": "markdown",
   "metadata": {},
   "source": [
    "<span style=\"color:blue\">Using the information from the MDIS-NAC ISD, rotate the look vector (7.168, 7.168, 550) from the sensor reference frame to the target reference frame</span>"
   ]
  },
  {
   "cell_type": "code",
   "execution_count": null,
   "metadata": {},
   "outputs": [],
   "source": [
    "# Note that USGSCSM orders its quaternions the same as scipy, xi + yj + zk + w\n"
   ]
  },
  {
   "cell_type": "markdown",
   "metadata": {},
   "source": [
    "<span style=\"color:blue\">Now add an additional pointing correction of a 2.5 degree rotation about the X-axis, a 1.7 degree rotation about the Y-axis and a -3 degree rotation about the Z-axis applied before the original quaternion. What does the look vector (7.168, 7.168, 550) rotate to in the target reference frame?</span>"
   ]
  },
  {
   "cell_type": "code",
   "execution_count": null,
   "metadata": {},
   "outputs": [],
   "source": []
  }
 ],
 "metadata": {
  "kernelspec": {
   "display_name": "Python 3",
   "language": "python",
   "name": "python3"
  },
  "language_info": {
   "codemirror_mode": {
    "name": "ipython",
    "version": 3
   },
   "file_extension": ".py",
   "mimetype": "text/x-python",
   "name": "python",
   "nbconvert_exporter": "python",
   "pygments_lexer": "ipython3",
   "version": "3.7.3"
  }
 },
 "nbformat": 4,
 "nbformat_minor": 4
}
