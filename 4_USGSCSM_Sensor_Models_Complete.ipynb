{
 "cells": [
  {
   "cell_type": "code",
   "execution_count": 1,
   "metadata": {},
   "outputs": [],
   "source": [
    "from scipy.spatial.transform import Rotation\n",
    "import numpy as np\n",
    "import json"
   ]
  },
  {
   "cell_type": "markdown",
   "metadata": {},
   "source": [
    "# Rotations In USGSCSM Sensor Models\n",
    "In USGSCSM, we primarily use quaternions and ocassionally use Euler angles.\n",
    "\n",
    "## Quaternions\n",
    "USGSCSM sensor models always store the rotation from the sensor reference frame to the target reference frame as quaternions. The framing sensor model stores a single quaternion and the line scan sensor model stores a sequence of quaternions that are equally spaced across the duration of the image. Similar to ISIS sensor models, the line scan sensor model interpolates to get the rotation at any given time.\n",
    "\n",
    "## Euler Angles\n",
    "The one place that the USGSCSM uses Euler angles is in pointing correction for the line scan sensor model. The line scan sensor model retains the original rotation quaternions and adds an additional bias rotation defined by a second degree polynomial for each Euler angle. In ISIS this is equivalent to the overexisting parameter in jigsaw.\n",
    "\n",
    "## An Example\n",
    "Let's look at an MDIS NAC ISD"
   ]
  },
  {
   "cell_type": "code",
   "execution_count": 2,
   "metadata": {},
   "outputs": [
    {
     "name": "stdout",
     "output_type": "stream",
     "text": [
      "{'center_ephemeris_time': 357895527.7312159, 'detector_center': {'line': 512.5, 'sample': 512.5}, 'detector_line_summing': 2, 'detector_sample_summing': 2, 'fikid': -236820, 'file': '/usgs/shareall/thare/MDIS_StereoPair_maybe/EN0213110924M.IMG', 'filter_number': 'N/A', 'focal2pixel_lines': [0.0, 0.0, 71.42857143], 'focal2pixel_samples': [0.0, 71.42857143, 0.0], 'focal_length_model': {'focal_length': 549.2191106302377}, 'ikid': -236820, 'image_lines': 512, 'image_samples': 512, 'instrument_id': 'MSGR_MDIS_NAC', 'interpolation_method': 'lagrange', 'line_exposure_duration': 0.019, 'metakernel': '/Users/jmapel/ale/kernels/mess/msgr_2011_v10.tm', 'name_model': 'USGS_ASTRO_FRAME_SENSOR_MODEL', 'name_platform': 'Generic Platform', 'name_sensor': 'Generic Sensor', 'number_of_ephemerides': 1, 'number_of_quaternions': 1, 'radii': {'semimajor': 2439.4, 'semiminor': 2439.4, 'unit': 'km'}, 'reference_frame': 'IAU_MERCURY', 'reference_height': {'minheight': 0, 'maxheight': 1000, 'unit': 'm'}, 'sensor_orientation': {'quaternions': [[0.7739191782336012, 0.40069004175480066, 0.09923934123312647, 0.4802584191374251]]}, 'sensor_position': {'positions': [[-3344929.69071679, 1401586.45371477, 2508046.72743109]], 'velocities': [[2245.73321082, -1318.71245141, 1021.21357241]], 'unit': 'm'}, 'spacecraft_clock_stop_count': '1/0213110924:990000', 'spacecraft_id': -236, 'spacecraft_name': 'MESSENGER', 'start_time': '2011-05-05 19:24:16.681795', 'starting_detector_line': 1, 'starting_detector_sample': 9, 'starting_ephemeris_time': 357895522.8672159, 'sun_position': {'positions': [[-25423442.2574894, -64084466.51016487, -37685.65144817531, -41.73160859189398]], 'velocities': [[-41.73160859189398, 19.899888587545227, -0.007337443855518686]], 'unit': 'm'}, 'target_name': 'MERCURY'}\n"
     ]
    }
   ],
   "source": [
    "with open('data/EN0213110924M.json') as fh:\n",
    "    isd = json.load(fh)\n",
    "print(isd)"
   ]
  },
  {
   "cell_type": "markdown",
   "metadata": {},
   "source": [
    "The rotation from the sensor reference frame to the target reference frame is stored in the `sensor_orientation` as `quaternions`. In order for the line scan sensor model and the frame sensor model, the quaternions are stored as a 2d list regardless of how many there are."
   ]
  },
  {
   "cell_type": "markdown",
   "metadata": {},
   "source": [
    "<span style=\"color:blue\">Using the information from the MDIS-NAC ISD, rotate the look vector (7.168, 7.168, 550) from the sensor reference frame to the target reference frame</span>"
   ]
  },
  {
   "cell_type": "code",
   "execution_count": 3,
   "metadata": {},
   "outputs": [
    {
     "name": "stdout",
     "output_type": "stream",
     "text": [
      "The rotated look vector is [[ 304.6492836  -361.53955175 -281.21295661]]\n"
     ]
    }
   ],
   "source": [
    "# Note that USGSCSM orders its quaternions the same as scipy, xi + yj + zk + w\n",
    "look_vec = np.array([7.168, 7.168, 550])\n",
    "\n",
    "sensor_to_target = Rotation.from_quat(isd['sensor_orientation']['quaternions'])\n",
    "\n",
    "print('The rotated look vector is', sensor_to_target.apply(look_vec))"
   ]
  },
  {
   "cell_type": "markdown",
   "metadata": {},
   "source": [
    "<span style=\"color:blue\">Now add an additional pointing correction of a 2.5 degree rotation about the X-axis, a 1.7 degree rotation about the Y-axis and a -3 degree rotation about the Z-axis applied before the original quaternion. What does the look vector (7.168, 7.168, 550) rotate to in the target reference frame?</span>"
   ]
  },
  {
   "cell_type": "code",
   "execution_count": 5,
   "metadata": {},
   "outputs": [
    {
     "name": "stdout",
     "output_type": "stream",
     "text": [
      "The rotated look vector is [[ 301.2100811  -344.59883321 -305.16698977]]\n"
     ]
    }
   ],
   "source": [
    "correction_rot = Rotation.from_euler('xyz', [2.5, 1.7, -3], degrees=True)\n",
    "\n",
    "adjusted_sensor_to_target = sensor_to_target * correction_rot\n",
    "\n",
    "print('The rotated look vector is', adjusted_sensor_to_target.apply(look_vec))"
   ]
  }
 ],
 "metadata": {
  "kernelspec": {
   "display_name": "Python 3",
   "language": "python",
   "name": "python3"
  },
  "language_info": {
   "codemirror_mode": {
    "name": "ipython",
    "version": 3
   },
   "file_extension": ".py",
   "mimetype": "text/x-python",
   "name": "python",
   "nbconvert_exporter": "python",
   "pygments_lexer": "ipython3",
   "version": "3.7.3"
  }
 },
 "nbformat": 4,
 "nbformat_minor": 4
}
