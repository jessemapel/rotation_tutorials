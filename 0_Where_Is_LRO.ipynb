{
 "cells": [
  {
   "cell_type": "markdown",
   "metadata": {},
   "source": [
    "# Where Is LRO?"
   ]
  },
  {
   "cell_type": "markdown",
   "metadata": {},
   "source": [
    "Just like in the previous notebook, this is a somewhat ambiguous question. Where is LRO relative to what? Where is LRO in what coordinate system?\n",
    "\n",
    "Luckily, SPICE makes answering this fairly easy."
   ]
  },
  {
   "cell_type": "code",
   "execution_count": null,
   "metadata": {},
   "outputs": [],
   "source": [
    "import spiceypy\n",
    "import numpy as np"
   ]
  },
  {
   "cell_type": "code",
   "execution_count": null,
   "metadata": {},
   "outputs": [],
   "source": [
    "base_kernel_dir = '/usgs/cpkgs/isis3/data/base/kernels/'\n",
    "lro_kernel_dir = '/usgs/cpkgs/isis3/data/lro/kernels/'\n",
    "kernels = [base_kernel_dir + 'lsk/naif0010.tls',\n",
    "           base_kernel_dir + 'pck/pck00009.tpc',\n",
    "           lro_kernel_dir + 'tspk/de421.bsp',\n",
    "           lro_kernel_dir + 'tspk/moon_pa_de421_1900-2050.bpc',\n",
    "           lro_kernel_dir + 'pck/moon_080317.tf',\n",
    "           lro_kernel_dir + 'pck/moon_assoc_me.tf',\n",
    "           lro_kernel_dir + 'spk/fdf29r_2009244_2009274_v01.bsp',\n",
    "           lro_kernel_dir + 'fk/lro_frames_2014049_v01.tf',\n",
    "           lro_kernel_dir + 'ck/lrolc_2009243_2009274_v05.bc',\n",
    "           lro_kernel_dir + 'ck/moc42r_2009243_2009274_v08.bc']\n",
    "spiceypy.furnsh(kernels)\n",
    "time_str = '2009-09-15T07:27:49.230'"
   ]
  },
  {
   "cell_type": "code",
   "execution_count": null,
   "metadata": {},
   "outputs": [],
   "source": [
    "?spiceypy.str2et"
   ]
  },
  {
   "cell_type": "code",
   "execution_count": null,
   "metadata": {},
   "outputs": [],
   "source": [
    "time_et = spiceypy.str2et(time_str)"
   ]
  },
  {
   "cell_type": "code",
   "execution_count": null,
   "metadata": {},
   "outputs": [],
   "source": [
    "?spiceypy.spkezr"
   ]
  },
  {
   "cell_type": "code",
   "execution_count": null,
   "metadata": {},
   "outputs": [],
   "source": [
    "lro_state, _ = spiceypy.spkezr('LUNAR RECONNAISSANCE ORBITER', time_et, 'J2000', 'NONE', 'SOLAR SYSTEM BARYCENTER')\n",
    "print('LRO is at', lro_state[:3], 'relative to the SOLAR SYSTEM BARYCENTER in the J2000 reference frame')"
   ]
  },
  {
   "cell_type": "markdown",
   "metadata": {},
   "source": [
    "## Where is LRO relative to the Earth in the IAU_EARTH reference frame?\n",
    "Write a block of code to compute the position of LRO relative to the Earth in the IAU_EARTH reference frame"
   ]
  },
  {
   "cell_type": "code",
   "execution_count": null,
   "metadata": {},
   "outputs": [],
   "source": []
  },
  {
   "cell_type": "markdown",
   "metadata": {},
   "source": [
    "## Where is LRO relative to the Moon in the IAU_MOON reference frame?\n",
    "Write a block of code to compute the position of LRO relative to the Moon in the IAU_MOON reference frame"
   ]
  },
  {
   "cell_type": "code",
   "execution_count": null,
   "metadata": {},
   "outputs": [],
   "source": []
  },
  {
   "cell_type": "markdown",
   "metadata": {},
   "source": [
    "## How fast is LRO moving relative to the solar system barycenter in the J2000 reference frame?"
   ]
  },
  {
   "cell_type": "code",
   "execution_count": null,
   "metadata": {},
   "outputs": [],
   "source": [
    "lro_state, _ = spiceypy.spkezr('LUNAR RECONNAISSANCE ORBITER', time_et, 'J2000', 'NONE', 'SOLAR SYSTEM BARYCENTER')\n",
    "lro_vel = np.array(lro_state[3:])\n",
    "print('LRO is moving at', np.linalg.norm(lro_vel), 'km/s')"
   ]
  },
  {
   "cell_type": "markdown",
   "metadata": {},
   "source": [
    "## How fast is LRO moving relative to the moon in the IAU_MOON reference frame?\n",
    "Write a block of code to compute the velocity of LRO relative to the Moon in the IAU_MOON reference frame"
   ]
  },
  {
   "cell_type": "code",
   "execution_count": null,
   "metadata": {},
   "outputs": [],
   "source": []
  },
  {
   "cell_type": "markdown",
   "metadata": {},
   "source": [
    "## How fast is LRO moving relative to the moon in the LRO_SC_BUS reference frame?\n",
    "Write a block of code to compute the velocity of LRO relative to the Moon in the LRO_SC_BUS reference frame"
   ]
  },
  {
   "cell_type": "code",
   "execution_count": null,
   "metadata": {},
   "outputs": [],
   "source": []
  }
 ],
 "metadata": {
  "kernelspec": {
   "display_name": "Python 3",
   "language": "python",
   "name": "python3"
  },
  "language_info": {
   "codemirror_mode": {
    "name": "ipython",
    "version": 3
   },
   "file_extension": ".py",
   "mimetype": "text/x-python",
   "name": "python",
   "nbconvert_exporter": "python",
   "pygments_lexer": "ipython3",
   "version": "3.7.3"
  }
 },
 "nbformat": 4,
 "nbformat_minor": 4
}
